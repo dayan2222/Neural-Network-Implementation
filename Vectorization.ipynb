{
  "nbformat": 4,
  "nbformat_minor": 0,
  "metadata": {
    "colab": {
      "name": "Vectorization.ipynb",
      "version": "0.3.2",
      "provenance": [],
      "collapsed_sections": []
    },
    "kernelspec": {
      "name": "python3",
      "display_name": "Python 3"
    }
  },
  "cells": [
    {
      "cell_type": "code",
      "metadata": {
        "id": "s_kyhey4zq08",
        "colab_type": "code",
        "colab": {}
      },
      "source": [
        "import numpy as np"
      ],
      "execution_count": 0,
      "outputs": []
    },
    {
      "cell_type": "code",
      "metadata": {
        "id": "DEKB-pBq8KbR",
        "colab_type": "code",
        "outputId": "02b84b47-8728-4653-fa3e-9db165ffee30",
        "colab": {
          "base_uri": "https://localhost:8080/",
          "height": 34
        }
      },
      "source": [
        "a = np.array([1,2,3,4])\n",
        "print(a)"
      ],
      "execution_count": 0,
      "outputs": [
        {
          "output_type": "stream",
          "text": [
            "[1 2 3 4]\n"
          ],
          "name": "stdout"
        }
      ]
    },
    {
      "cell_type": "code",
      "metadata": {
        "id": "K4O5ykAo8adG",
        "colab_type": "code",
        "outputId": "253e7784-8513-4555-950b-c823eded8b34",
        "colab": {
          "base_uri": "https://localhost:8080/",
          "height": 85
        }
      },
      "source": [
        "import time\n",
        "\n",
        "a = np.random.rand(1000000)\n",
        "b = np.random.rand(1000000)\n",
        "\n",
        "tic = time.time()\n",
        "c = np.dot(a,b)\n",
        "toc = time.time()\n",
        "\n",
        "print(c)\n",
        "print(\"Vectorization: \" + str(1000*(toc-tic)) + \"ms\")\n",
        "\n",
        "# non vectorized \n",
        "\n",
        "c = 0\n",
        "tic = time.time()\n",
        "for i in range(1000000):\n",
        "  c += a[i]*b[i]\n",
        "toc=time.time()  \n",
        "\n",
        "print(c)\n",
        "print(\"For Loop: \" + str(1000*(toc - tic)) + \"ms\")"
      ],
      "execution_count": 0,
      "outputs": [
        {
          "output_type": "stream",
          "text": [
            "249403.89861202647\n",
            "Vectorization: 2.2652149200439453ms\n",
            "249403.89861203096\n",
            "For Loop: 454.9686908721924ms\n"
          ],
          "name": "stdout"
        }
      ]
    },
    {
      "cell_type": "markdown",
      "metadata": {
        "id": "xjSY75Aw0c6L",
        "colab_type": "text"
      },
      "source": [
        "## Question 1\n",
        "[Here is Question ](https://github.com/dayan2222/Neural-Network-Scripts/blob/master/question.PNG)"
      ]
    },
    {
      "cell_type": "code",
      "metadata": {
        "id": "WETajhmI1DAU",
        "colab_type": "code",
        "outputId": "463ddf06-a89c-4765-ec69-a8326c9d83db",
        "colab": {
          "base_uri": "https://localhost:8080/",
          "height": 68
        }
      },
      "source": [
        "import numpy as np\n",
        "A = np.array([[56.0, 0.0, 4.4, 68.0],\n",
        "             [1.2, 104.0, 52.0, 8.0],\n",
        "             [1.8, 135.0, 99.0, 0.9]])\n",
        "\n",
        "print(A)"
      ],
      "execution_count": 0,
      "outputs": [
        {
          "output_type": "stream",
          "text": [
            "[[ 56.    0.    4.4  68. ]\n",
            " [  1.2 104.   52.    8. ]\n",
            " [  1.8 135.   99.    0.9]]\n"
          ],
          "name": "stdout"
        }
      ]
    },
    {
      "cell_type": "code",
      "metadata": {
        "id": "8e_V-OEL4Dne",
        "colab_type": "code",
        "outputId": "4f02339b-a5fb-4f45-eacf-1f038cae2d8b",
        "colab": {
          "base_uri": "https://localhost:8080/",
          "height": 34
        }
      },
      "source": [
        "cal = A.sum(axis=0) # axis 0 will print the sum in row wise for x-axis we use axis = 1\n",
        "print(cal)"
      ],
      "execution_count": 0,
      "outputs": [
        {
          "output_type": "stream",
          "text": [
            "[ 59.  239.  155.4  76.9]\n"
          ],
          "name": "stdout"
        }
      ]
    },
    {
      "cell_type": "code",
      "metadata": {
        "id": "wz3JMQuG4svx",
        "colab_type": "code",
        "outputId": "70591481-1b77-47d9-cb32-d781c08a0143",
        "colab": {
          "base_uri": "https://localhost:8080/",
          "height": 68
        }
      },
      "source": [
        "percentage = 100 * A / cal.reshape(1,4)\n",
        "print(percentage)"
      ],
      "execution_count": 0,
      "outputs": [
        {
          "output_type": "stream",
          "text": [
            "[[94.91525424  0.          2.83140283 88.42652796]\n",
            " [ 2.03389831 43.51464435 33.46203346 10.40312094]\n",
            " [ 3.05084746 56.48535565 63.70656371  1.17035111]]\n"
          ],
          "name": "stdout"
        }
      ]
    },
    {
      "cell_type": "code",
      "metadata": {
        "id": "N0tTAX5l8Z8c",
        "colab_type": "code",
        "colab": {}
      },
      "source": [
        ""
      ],
      "execution_count": 0,
      "outputs": []
    }
  ]
}