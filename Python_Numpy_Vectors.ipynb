{
  "nbformat": 4,
  "nbformat_minor": 0,
  "metadata": {
    "colab": {
      "name": "Python-Numpy Vectors.ipynb",
      "version": "0.3.2",
      "provenance": [],
      "collapsed_sections": []
    },
    "kernelspec": {
      "name": "python3",
      "display_name": "Python 3"
    }
  },
  "cells": [
    {
      "cell_type": "code",
      "metadata": {
        "id": "ajNUDiShbAzl",
        "colab_type": "code",
        "colab": {}
      },
      "source": [
        "import numpy as np\n",
        "\n",
        "a = np.random.randn(5) # it will creates a random vector numbers"
      ],
      "execution_count": 0,
      "outputs": []
    },
    {
      "cell_type": "code",
      "metadata": {
        "id": "uMgrqQIWjt5w",
        "colab_type": "code",
        "colab": {}
      },
      "source": [
        "# a = a.reshape(5,1)"
      ],
      "execution_count": 0,
      "outputs": []
    },
    {
      "cell_type": "code",
      "metadata": {
        "id": "lrwRt60_bS_k",
        "colab_type": "code",
        "outputId": "ec26b03d-c0a6-4129-e9de-56364f6a2359",
        "colab": {
          "base_uri": "https://localhost:8080/",
          "height": 34
        }
      },
      "source": [
        "print(a)"
      ],
      "execution_count": 0,
      "outputs": [
        {
          "output_type": "stream",
          "text": [
            "[-0.76866781  1.04997366 -0.60984216  0.75399454 -0.55513562]\n"
          ],
          "name": "stdout"
        }
      ]
    },
    {
      "cell_type": "code",
      "metadata": {
        "id": "ij_O4Zp3bezu",
        "colab_type": "code",
        "outputId": "d0626528-a1c6-4b37-e896-cce2d41d9dba",
        "colab": {
          "base_uri": "https://localhost:8080/",
          "height": 34
        }
      },
      "source": [
        "print(a.shape)"
      ],
      "execution_count": 0,
      "outputs": [
        {
          "output_type": "stream",
          "text": [
            "(5,)\n"
          ],
          "name": "stdout"
        }
      ]
    },
    {
      "cell_type": "code",
      "metadata": {
        "id": "FY11sTIvb1y6",
        "colab_type": "code",
        "outputId": "05895792-e2a4-4137-8ffc-8dc95f30244b",
        "colab": {
          "base_uri": "https://localhost:8080/",
          "height": 34
        }
      },
      "source": [
        "print(a.T) # Transpose of \"a\" this returns rank 1 array"
      ],
      "execution_count": 0,
      "outputs": [
        {
          "output_type": "stream",
          "text": [
            "[-0.76866781  1.04997366 -0.60984216  0.75399454 -0.55513562]\n"
          ],
          "name": "stdout"
        }
      ]
    },
    {
      "cell_type": "code",
      "metadata": {
        "id": "XwEKjgBsb5iK",
        "colab_type": "code",
        "outputId": "d7695fff-a22e-4a05-d56e-f6d531ec28b5",
        "colab": {
          "base_uri": "https://localhost:8080/",
          "height": 34
        }
      },
      "source": [
        "print(np.dot(a,a.T)) #inner product between \"a\" and \"a transpose\""
      ],
      "execution_count": 0,
      "outputs": [
        {
          "output_type": "stream",
          "text": [
            "2.9418856706724457\n"
          ],
          "name": "stdout"
        }
      ]
    },
    {
      "cell_type": "markdown",
      "metadata": {
        "id": "kJS-qRNvcwBL",
        "colab_type": "text"
      },
      "source": [
        "When You're coding a neural network you don't need to use a data structure like above. Instead use the following method."
      ]
    },
    {
      "cell_type": "code",
      "metadata": {
        "id": "V1OrbeBdc_zC",
        "colab_type": "code",
        "outputId": "f16641e6-f411-499e-9164-bbb092a84883",
        "colab": {
          "base_uri": "https://localhost:8080/",
          "height": 102
        }
      },
      "source": [
        "a = np.random.randn(5,1) # this commits to a 5,1 column vector\n",
        "print(a)"
      ],
      "execution_count": 0,
      "outputs": [
        {
          "output_type": "stream",
          "text": [
            "[[ 1.70146107]\n",
            " [ 0.8173017 ]\n",
            " [-0.41569615]\n",
            " [ 1.07876799]\n",
            " [ 0.83211314]]\n"
          ],
          "name": "stdout"
        }
      ]
    },
    {
      "cell_type": "code",
      "metadata": {
        "id": "c5x3Ghu6dMBz",
        "colab_type": "code",
        "outputId": "4be76421-c81c-4309-859b-a9ef2438c99c",
        "colab": {
          "base_uri": "https://localhost:8080/",
          "height": 34
        }
      },
      "source": [
        "print(a.T) # Now this return a 1 by 5 matrix"
      ],
      "execution_count": 0,
      "outputs": [
        {
          "output_type": "stream",
          "text": [
            "[[ 1.70146107  0.8173017  -0.41569615  1.07876799  0.83211314]]\n"
          ],
          "name": "stdout"
        }
      ]
    },
    {
      "cell_type": "code",
      "metadata": {
        "id": "d56ZhSImdQOv",
        "colab_type": "code",
        "outputId": "fc01bd9f-f698-4a8f-c6f1-4f215f7f09af",
        "colab": {
          "base_uri": "https://localhost:8080/",
          "height": 102
        }
      },
      "source": [
        "print(np.dot(a,a.T)) # this gives you the outer product of a vector"
      ],
      "execution_count": 0,
      "outputs": [
        {
          "output_type": "stream",
          "text": [
            "[[ 2.89496976  1.39060702 -0.70729081  1.83548173  1.41580812]\n",
            " [ 1.39060702  0.66798207 -0.33974917  0.88167891  0.68008749]\n",
            " [-0.70729081 -0.33974917  0.17280329 -0.4484397  -0.34590623]\n",
            " [ 1.83548173  0.88167891 -0.4484397   1.16374037  0.89765702]\n",
            " [ 1.41580812  0.68008749 -0.34590623  0.89765702  0.69241228]]\n"
          ],
          "name": "stdout"
        }
      ]
    }
  ]
}